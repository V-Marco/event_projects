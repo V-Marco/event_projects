{
 "cells": [
  {
   "cell_type": "markdown",
   "metadata": {},
   "source": [
    "## Инструкция:\n",
    "\n",
    "* Перед выполнением любого скрипта нужно запустить первые два блока **(Общие методы)**: **Работа с `vk_api`** и **Работа со `Spreadsheet API`** (то есть всё с начала и до полупрозрачной линии). Если появляется ошибка `('Connection aborted.', OSError(\"(54, 'ECONNRESET')\",))`, эти два блока нужно перезапустить.\n",
    "\n",
    "* Чтобы выполнить скрипт, нужно запустить все ячейки, начиная с заголовка скрипта (например, чтобы запустить скрипт **Напоминание о дресс-коде**, нужно выполнить три ячейки, входящие в него). Ячейки выполнять **строго по порядку!**\n",
    "\n",
    "* Места, куда нужно вписывать текст напоминаний, сообщений и проч., обозначены в коде зелёными комменатриями `# ТЕКСТ ЗДЕСЬ`. Чтобы перейти на новую строку в сообщении, нужно написать символ `\\n`.\n",
    "\n",
    "* Последний раздел, **Технические скрипты**, содержит дополнительные полезные функции. "
   ]
  },
  {
   "cell_type": "markdown",
   "metadata": {},
   "source": [
    "## Внимание! Между выполнением скриптов должно пройти не менее 3 мин, иначе скрипт может сломаться во время исполнения."
   ]
  },
  {
   "cell_type": "markdown",
   "metadata": {},
   "source": [
    "## Общие методы"
   ]
  },
  {
   "cell_type": "markdown",
   "metadata": {},
   "source": [
    "### Работа с `vk_api`"
   ]
  },
  {
   "cell_type": "code",
   "execution_count": null,
   "metadata": {},
   "outputs": [],
   "source": [
    "import vk\n",
    "import time"
   ]
  },
  {
   "cell_type": "code",
   "execution_count": null,
   "metadata": {},
   "outputs": [],
   "source": [
    "# Получает id пользователя из ссылки в формате vk.com/#*#\n",
    "def getUserId(link):\n",
    "    try:\n",
    "        uid = link\n",
    "        if 'https://' in link:\n",
    "            uid = link.split('//')[-1]\n",
    "        if 'vk.com/' in link or 'Vk.com/' in link: #  проверяем эту ссылку\n",
    "            uid = link.split('/')[-1]  # если да, то получаем его последнюю часть\n",
    "        if not uid.replace('id', '').isdigit(): # если в нем после отсечения 'id' сами цифры - это и есть id\n",
    "            uid = vkapi.utils.resolveScreenName(screen_name=uid)['object_id'] # если нет, получаем id с помощью метода API\n",
    "        else:\n",
    "            uid = uid.replace('id', '')\n",
    "        return int(uid)\n",
    "    except:\n",
    "        print('Не могу получить id для пользователя ', link)\n",
    "        return None"
   ]
  },
  {
   "cell_type": "code",
   "execution_count": null,
   "metadata": {},
   "outputs": [],
   "source": [
    "# Аутентификация от имени группы\n",
    "session = vk.AuthSession(access_token = '#*#')\n",
    "vkapi = vk.API(session, v = 5.0)"
   ]
  },
  {
   "cell_type": "code",
   "execution_count": null,
   "metadata": {},
   "outputs": [],
   "source": [
    "# Отправка сообщения\n",
    "def sendMsg(user_id, mesg, attachment = ''):\n",
    "    try:\n",
    "        vkapi.messages.send(user_id = user_id, message = mesg, attachment = attachment)\n",
    "    except:\n",
    "        print('Не удалось отправить vk.com/id' + str(user_id))"
   ]
  },
  {
   "cell_type": "markdown",
   "metadata": {},
   "source": [
    "### Работа со `Spreadsheet API`"
   ]
  },
  {
   "cell_type": "code",
   "execution_count": null,
   "metadata": {},
   "outputs": [],
   "source": [
    "# Библиотека для взаимодействия с листом\n",
    "import gspread "
   ]
  },
  {
   "cell_type": "code",
   "execution_count": null,
   "metadata": {},
   "outputs": [],
   "source": [
    "# Авторизация\n",
    "from oauth2client.service_account import ServiceAccountCredentials\n",
    "\n",
    "scope = ['#*#',\n",
    "         '#*#']\n",
    "\n",
    "# Файл с реквизитами \"#*#.json\" должен лежать в этой же папке\n",
    "# Не забыть взять из этого файла #*# и расшарить нужный spreadsheet\n",
    "credentials = ServiceAccountCredentials.from_json_keyfile_name('#*#.json', scope)\n",
    "\n",
    "gc = gspread.authorize(credentials)"
   ]
  },
  {
   "cell_type": "code",
   "execution_count": null,
   "metadata": {},
   "outputs": [],
   "source": [
    "# Открыть spreadsheet с названием и нужный sheet в нём\n",
    "sheet = gc.open(\"#*#\").worksheet('#*#')\n",
    "\n",
    "# Проверка, что открыли то, что нужно\n",
    "print(sheet.row_values(3))"
   ]
  },
  {
   "cell_type": "code",
   "execution_count": null,
   "metadata": {},
   "outputs": [],
   "source": [
    "# Получить названия листов, с которыми будем работать\n",
    "def get_sheets():\n",
    "    name_sheet = gc.open(\"#*#\").worksheet('#*#')\n",
    "    names = name_sheet.col_values(2)\n",
    "    names = names[3:]\n",
    "    return names"
   ]
  },
  {
   "cell_type": "markdown",
   "metadata": {},
   "source": [
    "---"
   ]
  },
  {
   "cell_type": "markdown",
   "metadata": {},
   "source": [
    "## Скрипты"
   ]
  },
  {
   "cell_type": "markdown",
   "metadata": {},
   "source": [
    "### Сообщения"
   ]
  },
  {
   "cell_type": "markdown",
   "metadata": {},
   "source": [
    "Проверяет, разрешены ли у пользователя сообщения от сообщества, и если они закрыты, направляет второму участнику пары сообщение с напоминанием о необходимости открыть сообщения."
   ]
  },
  {
   "cell_type": "code",
   "execution_count": null,
   "metadata": {},
   "outputs": [],
   "source": [
    "def messages_allowed_send():\n",
    "    \n",
    "    group_id = getUserId('#*#')\n",
    "    \n",
    "    pairs_to_send = []\n",
    "    \n",
    "    sheet = gc.open(\"#*#\").worksheet('#*#')\n",
    "    \n",
    "    fios = sheet.col_values(3)[1:]\n",
    "    fios = fios.copy()\n",
    "    pairs = sheet.col_values(1)[1:]\n",
    "    pairs = pairs.copy()\n",
    "    links = sheet.col_values(4)[1:]\n",
    "    links = links.copy()\n",
    "    \n",
    "    # Если участнику нельзя отправлять сообщения, добавляем номер его пары в список\n",
    "    for i in range(len(fios)):\n",
    "        try:\n",
    "            if i % 20 == 0:\n",
    "                time.sleep(2.0)\n",
    "            pair = pairs[i]\n",
    "            user_id = getUserId(links[i])\n",
    "            if vkapi.messages.isMessagesFromGroupAllowed(group_id = group_id, user_id = user_id)['is_allowed'] == 0:\n",
    "                pairs_to_send.append(pair)\n",
    "        except:\n",
    "            print('Возникла проблема со строкой ' + str(i+1) + '. Перехожу на новую строку.')\n",
    "            continue\n",
    "            \n",
    "    # Пройтись по всем участникам, если пара в списке -- попробовать отправить сообщение\n",
    "    for i in range(len(fios)):\n",
    "        try:\n",
    "            if i % 20 == 0:\n",
    "                time.sleep(2.0)\n",
    "            if pairs[i] in pairs_to_send:\n",
    "                if links[i] == 'Нет вк':\n",
    "                    print('У партнёра нет ВК, пропускаю. Строка ' + str(i+1))\n",
    "                    continue\n",
    "                user_id = getUserId(links[i])\n",
    "                if vkapi.messages.isMessagesFromGroupAllowed(group_id = group_id, user_id = user_id)['is_allowed'] == 1:\n",
    "                    # ТЕКСТ ЗДЕСЬ\n",
    "                    sendMsg(user_id, '#*#', attachment=['#*#', '#*#'])\n",
    "        except:\n",
    "            print('Возникла проблема со строкой ' + str(i+1) + '. Перехожу на новую строку.')\n",
    "            continue"
   ]
  },
  {
   "cell_type": "code",
   "execution_count": null,
   "metadata": {},
   "outputs": [],
   "source": [
    "# Запустить напоминание\n",
    "messages_allowed_send()"
   ]
  },
  {
   "cell_type": "markdown",
   "metadata": {},
   "source": [
    "### Напоминание об оплате и предоставлении расписки + 8 день"
   ]
  },
  {
   "cell_type": "markdown",
   "metadata": {},
   "source": [
    "Проверяет, оплатил ли участник участие и/или предоставил ли он расписку, и направляет соответствующее сообщение этому участнику. Также отправляет сообщение на 8 день."
   ]
  },
  {
   "cell_type": "code",
   "execution_count": null,
   "metadata": {},
   "outputs": [],
   "source": [
    "from datetime import datetime\n",
    "\n",
    "def remind_about_money():\n",
    "    \n",
    "    to_remind_money = []\n",
    "    to_remind_rasp = []\n",
    "    to_remind_both = []\n",
    "    \n",
    "    # Итерируемся по всем листам \n",
    "    names = get_sheets()\n",
    "    \n",
    "    for name in names:\n",
    "        try:\n",
    "            sheet = gc.open(\"#*#\").worksheet(name)\n",
    "            fios = sheet.col_values(3)[2:] # Из столбца с фамилией получаем число участников\n",
    "            fios = fios.copy()\n",
    "            links = sheet.col_values(4)[2:]\n",
    "            links = links.copy()\n",
    "            moneys = sheet.col_values(5)[2:]\n",
    "            moneys = moneys.copy()\n",
    "            rasps = sheet.col_values(6)[2:]\n",
    "            rasps = rasps.copy()\n",
    "            \n",
    "            for i in range(len(fios)):\n",
    "                try:\n",
    "                    money = moneys[i]\n",
    "                    rasp = rasps[i]\n",
    "\n",
    "                    if int(money) == 0 and int(rasp) == 0:\n",
    "                        to_remind_both.append([fios[i], links[i]])\n",
    "                    elif int(money) == 0 and int(rasp) == 1:\n",
    "                        to_remind_money.append([fios[i], links[i]])\n",
    "                    elif int(money) == 1 and int(rasp) == 0:\n",
    "                        to_remind_rasp.append([fios[i], links[i]])\n",
    "                except:\n",
    "                    print('Не удаётся прочитать строку ' + str(i) + ' на листе ' + str(name) + '. Перехожу на следующую строку.')\n",
    "                    continue\n",
    "        except:\n",
    "            print('Не удаётся прочитать лист ' + str(name) + '. Перехожу на следующий лист.')\n",
    "            continue\n",
    "                \n",
    "    names_sheet = gc.open(\"#*#\").worksheet(\"#*#\")\n",
    "    names = names_sheet.col_values(2)[2:] + names_sheet.col_values(8)[2:]\n",
    "    dates = names_sheet.col_values(1)[2:] + names_sheet.col_values(1)[2:]\n",
    "    \n",
    "    names = names.copy()\n",
    "    dates = dates.copy()\n",
    "    \n",
    "    moneys = []\n",
    "    rasps = []\n",
    "    boths = []\n",
    "    eights = []\n",
    "    \n",
    "    count = 0\n",
    "    for element in to_remind_money:\n",
    "        count += 1\n",
    "        try:\n",
    "            if count % 20 == 0:\n",
    "                time.sleep(2.0)\n",
    "            indx = names.index(element[0])\n",
    "            date = dates[indx]\n",
    "\n",
    "            date = date.split(' ')[0]\n",
    "            datetime_object = datetime.strptime(date, '%d.%m.%Y')\n",
    "            now = datetime.today()\n",
    "            delta = now.date() - datetime_object.date()\n",
    "            days = delta.days\n",
    "\n",
    "            if days == 1 or days == 4 or days == 6:\n",
    "                moneys.append([getUserId(str(element[1])), days])\n",
    "            if days == 8:\n",
    "                eights.append([getUserId(str(element[1])), days])\n",
    "        except:\n",
    "            print('Не удаётся прочитать дату (деньги) для участника ' + str(element[0]) + '. Перехожу к следующему участнику.')\n",
    "            continue\n",
    "    \n",
    "    count = 0\n",
    "    for element in to_remind_rasp:\n",
    "        count += 1\n",
    "        try:\n",
    "            if count % 20 == 0:\n",
    "                time.sleep(2.0)\n",
    "            indx = names.index(element[0])\n",
    "            date = dates[indx]\n",
    "\n",
    "            date = date.split(' ')[0]\n",
    "            datetime_object = datetime.strptime(date, '%d.%m.%Y')\n",
    "            now = datetime.today()\n",
    "            delta = now.date() - datetime_object.date()\n",
    "            days = delta.days\n",
    "\n",
    "            if days == 1 or days == 4 or days == 6:\n",
    "                rasps.append([getUserId(str(element[1])), days])\n",
    "            if days == 8:\n",
    "                eights.append([getUserId(str(element[1])), days])\n",
    "        except:\n",
    "            print('Не удаётся прочитать дату (расписка) для участника ' + str(element[0]) + '. Перехожу к следующему участнику.')\n",
    "            continue\n",
    "            \n",
    "    count = 0\n",
    "    for element in to_remind_both:\n",
    "        count += 1\n",
    "        try:\n",
    "            if count % 20 == 0:\n",
    "                time.sleep(2.0)\n",
    "            indx = names.index(element[0])\n",
    "            date = dates[indx]\n",
    "\n",
    "            date = date.split(' ')[0]\n",
    "            datetime_object = datetime.strptime(date, '%d.%m.%Y')\n",
    "            now = datetime.today()\n",
    "            delta = now.date() - datetime_object.date()\n",
    "            days = delta.days\n",
    "\n",
    "            if days == 1 or days == 4 or days == 6:\n",
    "                boths.append([getUserId(str(element[1])), days])\n",
    "            if days == 8:\n",
    "                eights.append([getUserId(str(element[1])), days])\n",
    "        except:\n",
    "            print('Не удаётся прочитать дату (деньги и расписка) для участника ' + str(element[0]) + '. Перехожу к следующему участнику.')\n",
    "            continue\n",
    "    \n",
    "    count = 0\n",
    "    for element in moneys:\n",
    "        count += 1\n",
    "        if count % 20 == 0:\n",
    "            time.sleep(2.0)\n",
    "        # ТЕКСТ ЗДЕСЬ\n",
    "        message = '#*# ' + str(int(7 - element[1])) + ' #*#'\n",
    "        sendMsg(element[0], message)\n",
    "    \n",
    "    count = 0\n",
    "    for element in rasps:\n",
    "        count += 1\n",
    "        if count % 20 == 0:\n",
    "            time.sleep(2.0)\n",
    "        # ТЕКСТ ЗДЕСЬ\n",
    "        message = '#*# ' + str(int(7 - element[1])) + ' #*#'\n",
    "        sendMsg(element[0], message, '#*#')\n",
    "    \n",
    "    count = 0\n",
    "    for element in boths:\n",
    "        count += 1\n",
    "        if count % 20 == 0:\n",
    "            time.sleep(2.0)\n",
    "        # ТЕКСТ ЗДЕСЬ\n",
    "        message = '#*# ' + str(int(7 - element[1])) + ' #*#'\n",
    "        sendMsg(element[0], message, '#*#')\n",
    "    \n",
    "    count = 0\n",
    "    for element in eights:\n",
    "        count += 1\n",
    "        if count % 20 == 0:\n",
    "            time.sleep(2.0)\n",
    "        # ТЕКСТ ЗДЕСЬ\n",
    "        message = '#*#'\n",
    "        sendMsg(element[0], message)"
   ]
  },
  {
   "cell_type": "code",
   "execution_count": null,
   "metadata": {
    "scrolled": true
   },
   "outputs": [],
   "source": [
    "# Запустить напоминание об оплате и расписке\n",
    "remind_about_money()"
   ]
  },
  {
   "cell_type": "markdown",
   "metadata": {},
   "source": [
    "### Напоминание о дресс-коде"
   ]
  },
  {
   "cell_type": "markdown",
   "metadata": {},
   "source": [
    "Просматривает каждого участника и отправляет ему уведомление о тех элементах дресс-кода, фото которых он ещё не прислал. Отправка происходит в две партии: сначала людям на первых 7 листах, после – ожидание 100 сек., затем – отправка людям на вторых 7 листах."
   ]
  },
  {
   "cell_type": "code",
   "execution_count": null,
   "metadata": {},
   "outputs": [],
   "source": [
    "# Список с позициями дресс-кода\n",
    "dresses_glob = [\"#*#\\n\", \"#*#\\n\", \"#*#\\n\", \"#*#\\n\", \"#*#\\n\", \"#*#\\n\"]"
   ]
  },
  {
   "cell_type": "code",
   "execution_count": null,
   "metadata": {},
   "outputs": [],
   "source": [
    "import numpy as np \n",
    "\n",
    "def remind_about_dresscode(names):\n",
    "    # Итерируемся по всем листам\n",
    "    names = names\n",
    "    \n",
    "    for name in names:\n",
    "        sheet = gc.open(\"#*#\").worksheet(name)\n",
    "        fios = sheet.col_values(3)[2:] # Из столбца с фамилией получаем число участников\n",
    "        fios = fios.copy()\n",
    "        links = sheet.col_values(4)[2:]\n",
    "        links = links.copy()\n",
    "        is_allowed = sheet.col_values(12)[2:]\n",
    "        is_allowed = is_allowed.copy()\n",
    "        #*# = sheet.col_values(13)[2:]\n",
    "        #*# = #*#.copy()\n",
    "        #*# = sheet.col_values(14)[2:]\n",
    "        #*# = #*#.copy()\n",
    "        #*# = sheet.col_values(15)[2:]\n",
    "        #*# = #*#.copy()\n",
    "        #*# = sheet.col_values(16)[2:]\n",
    "        #*# = #*#.copy()\n",
    "        #*# = sheet.col_values(17)[2:]\n",
    "        #*# = #*#.copy()\n",
    "        #*# = sheet.col_values(18)[2:]\n",
    "        #*# = #*#.copy()\n",
    "        #*# = [#*#, #*#, #*#, #*#, #*#, #*#]\n",
    "\n",
    "        for i in range(len(fios)):\n",
    "            try:\n",
    "                if i % 20 == 0:\n",
    "                    time.sleep(2.0)\n",
    "                dress_code = [] # Хранит индексы позиций с 0, т.е. о которых нужно напомнить\n",
    "                if int(is_allowed[i]) != 0: # Проверяем, можно ли отправлять сообщения\n",
    "                    for p in range(len(code)): # Индексы позиций\n",
    "                        if int(code[p][i]) == 0:\n",
    "                            dress_code.append(p)\n",
    "                    if np.sum(np.array(dress_code)) != 0: # Если все нули, не напоминаем\n",
    "                        # ТЕКСТ ЗДЕСЬ\n",
    "                        msg = '#*#\\n'\n",
    "                        for element in dress_code:\n",
    "                            msg = msg + dresses_glob[element]\n",
    "                        uid = getUserId(links[i])\n",
    "                        sendMsg(uid, msg)\n",
    "            except:\n",
    "                print('Не могу прочитать строку ' + str(i) + ' на листе ' + str(name) + '. Перехожу на следующую строку.')\n",
    "                continue"
   ]
  },
  {
   "cell_type": "code",
   "execution_count": null,
   "metadata": {},
   "outputs": [],
   "source": [
    "# Запустить напоминание для первых 7 листов\n",
    "remind_about_dresscode(get_sheets()[:7])\n",
    "print('Первые 7 листов пройдены!')\n",
    "# Ждать 100 сек.\n",
    "time.sleep(100.0)\n",
    "# Запустить напоминание для вторых 7 листов\n",
    "remind_about_dresscode(get_sheets()[7:])"
   ]
  },
  {
   "cell_type": "markdown",
   "metadata": {},
   "source": [
    "### Рассылка"
   ]
  },
  {
   "cell_type": "markdown",
   "metadata": {},
   "source": [
    "Делает рассылку сообщения по всем участникам. Чтобы перейти на новую строку в сообщении, нужно написать символ `\\n`."
   ]
  },
  {
   "cell_type": "code",
   "execution_count": null,
   "metadata": {},
   "outputs": [],
   "source": [
    "def mailing(message):\n",
    "    sheet = gc.open(\"#*#\").worksheet('#*#')\n",
    "    \n",
    "    fios = sheet.col_values(3)[1:]\n",
    "    fios = fios.copy()\n",
    "    links = sheet.col_values(4)[1:]\n",
    "    links = links.copy()\n",
    "    \n",
    "    for i in range(len(fios)):\n",
    "        if i % 20 == 0:\n",
    "            time.sleep(2.0)\n",
    "        sendMsg(getUserId(links[i]), message)"
   ]
  },
  {
   "cell_type": "code",
   "execution_count": null,
   "metadata": {},
   "outputs": [],
   "source": [
    "# Запустить рассылку\n",
    "message = '#*#'\n",
    "mailing(message) # ТЕКСТ ЗДЕСЬ"
   ]
  },
  {
   "cell_type": "markdown",
   "metadata": {},
   "source": [
    "### Напоминание об опросе МК"
   ]
  },
  {
   "cell_type": "markdown",
   "metadata": {},
   "source": [
    "Отправляет участникам, которые оплатили участие, но не прошли опрос, напоминание об опросе."
   ]
  },
  {
   "cell_type": "code",
   "execution_count": null,
   "metadata": {},
   "outputs": [],
   "source": [
    "def remind_mk():\n",
    "    sheet = gc.open(\"#*#\").worksheet('#*#')\n",
    "    \n",
    "    fios = sheet.col_values(3)[1:]\n",
    "    fios = fios.copy()\n",
    "    links = sheet.col_values(4)[1:]\n",
    "    links = links.copy()\n",
    "    pays = sheet.col_values(6)[1:]\n",
    "    pays = pays.copy()\n",
    "    mks = sheet.col_values(7)[1:]\n",
    "    mks = mks.copy()\n",
    "    \n",
    "    # ТЕКСТ ЗДЕСЬ\n",
    "    message = '#*#'\n",
    "    \n",
    "    for i in range(len(fios)):\n",
    "        if i % 20 == 0:\n",
    "            time.sleep(2.0)\n",
    "        if int(pays[i]) == 1 and int(mks[i]) == 0:\n",
    "            sendMsg(getUserId(links[i]), message)"
   ]
  },
  {
   "cell_type": "code",
   "execution_count": null,
   "metadata": {},
   "outputs": [],
   "source": [
    "# Запустить напоминание об опросе МК\n",
    "remind_mk()"
   ]
  },
  {
   "cell_type": "markdown",
   "metadata": {},
   "source": [
    "### Напоминание неоплатившим"
   ]
  },
  {
   "cell_type": "markdown",
   "metadata": {},
   "source": [
    "Отправляет напоминание участникам, которые не оплатили участие."
   ]
  },
  {
   "cell_type": "code",
   "execution_count": null,
   "metadata": {},
   "outputs": [],
   "source": [
    "def remind_not_paid():\n",
    "    sheet = gc.open(\"#*#\").worksheet('#*#')\n",
    "    \n",
    "    fios = sheet.col_values(3)[1:]\n",
    "    fios = fios.copy()\n",
    "    links = sheet.col_values(4)[1:]\n",
    "    links = links.copy()\n",
    "    pays = sheet.col_values(6)[1:]\n",
    "    pays = pays.copy()\n",
    "    \n",
    "    # ТЕКСТ ЗДЕСЬ\n",
    "    message = '#*#'\n",
    "    \n",
    "    for i in range(len(fios)):\n",
    "        if i % 20 == 0:\n",
    "            time.sleep(2.0)\n",
    "        if int(pays[i]) == 0:\n",
    "            sendMsg(getUserId(links[i]), message)"
   ]
  },
  {
   "cell_type": "code",
   "execution_count": null,
   "metadata": {},
   "outputs": [],
   "source": [
    "# Запустить напоминание неоплатившим\n",
    "remind_not_paid()"
   ]
  },
  {
   "cell_type": "markdown",
   "metadata": {},
   "source": [
    "### Рассылка дат по МК (без проверок, отправляли ли уже)"
   ]
  },
  {
   "cell_type": "markdown",
   "metadata": {},
   "source": [
    "Проходит по всем листам кураторов и отправляет информацию о датах мастер-классов участникам."
   ]
  },
  {
   "cell_type": "code",
   "execution_count": null,
   "metadata": {},
   "outputs": [],
   "source": [
    "def send_dates(names_list):\n",
    "    # Итерируемся по всем листам\n",
    "    names = names_list\n",
    "    names = names.copy()\n",
    "    \n",
    "    for name in names:\n",
    "        try:\n",
    "            sheet = gc.open(\"#*#\").worksheet(name)\n",
    "            fios = sheet.col_values(3)[2:] # Из столбца с фамилией получаем число участников\n",
    "            fios = fios.copy()\n",
    "            links = sheet.col_values(4)[2:]\n",
    "            links = links.copy()\n",
    "            mk_1 = sheet.col_values(8)[2:]\n",
    "            mk_1 = mk_1.copy()\n",
    "            mk_2 = sheet.col_values(9)[2:]\n",
    "            mk_2 = mk_2.copy()\n",
    "            mk_3 = sheet.col_values(10)[2:]\n",
    "            mk_3 = mk_3.copy()\n",
    "            mk_4 = sheet.col_values(11)[2:]\n",
    "            mk_4 = mk_4.copy()\n",
    "            gen_rep = sheet.col_values(19)[2:]\n",
    "            gen_rep = gen_rep.copy()\n",
    "\n",
    "            for i in range(len(fios)):\n",
    "                try:\n",
    "                    if i % 6 == 0:\n",
    "                        time.sleep(2.0)\n",
    "\n",
    "                    if mk_1[i] != '':\n",
    "                        message = '#*#\\n#*# - ' +\n",
    "                        str(mk_1[i]) + ';\\n#*# - ' +\n",
    "                        str(mk_2[i]) + ';\\n#*# - ' +\n",
    "                        str(mk_3[i]) + ';\\n#*# - ' +\n",
    "                        str(mk_4[i]) + ';\\n#*# - ' +\n",
    "                        str(gen_rep[i]) + '.\\n#*#'\n",
    "                        sendMsg(getUserId(links[i]), message)\n",
    "                    else:\n",
    "                        continue\n",
    "                except:\n",
    "                    print('Проблема со строкой ' + str(i) + ' на листе ' + str(name) + '. Перехожу на следующую строку.')\n",
    "                    continue\n",
    "        except:\n",
    "            print('Не могу прочитать лист: ' + str(name) + '. Перехожу на следующий лист.')\n",
    "            continue"
   ]
  },
  {
   "cell_type": "code",
   "execution_count": null,
   "metadata": {},
   "outputs": [],
   "source": [
    "# Запустить напоминание для первых 7 листов\n",
    "send_dates(get_sheets()[:7])\n",
    "print('Первые 7 листов пройдены!')\n",
    "# Ждать 100 сек.\n",
    "time.sleep(100.0)\n",
    "# Запустить напоминание для вторых 7 листов\n",
    "send_dates(get_sheets()[7:])"
   ]
  },
  {
   "cell_type": "markdown",
   "metadata": {},
   "source": [
    "---"
   ]
  },
  {
   "cell_type": "markdown",
   "metadata": {},
   "source": [
    "## Технические скрипты"
   ]
  },
  {
   "cell_type": "markdown",
   "metadata": {},
   "source": [
    "### Сгенерировать словарь {Участник: [Организатор, Имя Фамилия участника]}"
   ]
  },
  {
   "cell_type": "code",
   "execution_count": null,
   "metadata": {},
   "outputs": [],
   "source": [
    "# В словаре хранятся только числовые id, без приставки!\n",
    "def generate_orgs_vocab():\n",
    "    \n",
    "    name_sheet = gc.open(\"#*#\").worksheet('#*#')\n",
    "    names = name_sheet.col_values(2)[3:]\n",
    "    names = names.copy()\n",
    "    adresses = name_sheet.col_values(3)[3:]\n",
    "    adresses = adresses.copy()\n",
    "    \n",
    "    sheet = gc.open(\"#*#\").worksheet('#*#')\n",
    "    \n",
    "    fios = sheet.col_values(3)[1:]\n",
    "    links = sheet.col_values(4)[1:]\n",
    "    orgs = sheet.col_values(5)[1:]\n",
    "    \n",
    "    fios = fios.copy()\n",
    "    links = links.copy()\n",
    "    orgs = orgs.copy()\n",
    "    \n",
    "    vocab = dict()\n",
    "    for i in range(len(fios)):\n",
    "        try:\n",
    "            if i % 20 == 0:\n",
    "                time.sleep(2.0)\n",
    "            partic_id = str(getUserId(links[i]))\n",
    "            partic_name = str(fios[i])\n",
    "\n",
    "            org_name = orgs[i]\n",
    "            org_adress = adresses[names.index(org_name)]\n",
    "\n",
    "            org_id = str(getUserId(org_adress))\n",
    "\n",
    "            vocab[partic_id] = [org_id, partic_name]\n",
    "        except:\n",
    "            print('Не могу прочитать строку ' + str(i) + '. Перехожу на следующую строку.')\n",
    "            continue\n",
    "    print(vocab)"
   ]
  },
  {
   "cell_type": "code",
   "execution_count": null,
   "metadata": {},
   "outputs": [],
   "source": [
    "# Запустить генератор\n",
    "generate_orgs_vocab()"
   ]
  },
  {
   "cell_type": "markdown",
   "metadata": {},
   "source": [
    "### Проверить, разрешены ли у пользователя сообщения от сообщества"
   ]
  },
  {
   "cell_type": "code",
   "execution_count": null,
   "metadata": {},
   "outputs": [],
   "source": [
    "def check_if_messaging_allowed(link):\n",
    "    group_id = getUserId('#*#')\n",
    "    user_id = getUserId(link)\n",
    "    if vkapi.messages.isMessagesFromGroupAllowed(group_id = group_id, user_id = user_id)['is_allowed'] == 1:\n",
    "        print('Разрешены')\n",
    "    else:\n",
    "        print('Не разрешены')"
   ]
  },
  {
   "cell_type": "code",
   "execution_count": null,
   "metadata": {},
   "outputs": [],
   "source": [
    "# Проверить: в аргумент ввести ссылку в формате vk.com/#*#\n",
    "check_if_messaging_allowed('vk.com/#*#')"
   ]
  }
 ],
 "metadata": {
  "kernelspec": {
   "display_name": "Python 3",
   "language": "python",
   "name": "python3"
  },
  "language_info": {
   "codemirror_mode": {
    "name": "ipython",
    "version": 3
   },
   "file_extension": ".py",
   "mimetype": "text/x-python",
   "name": "python",
   "nbconvert_exporter": "python",
   "pygments_lexer": "ipython3",
   "version": "3.6.6"
  }
 },
 "nbformat": 4,
 "nbformat_minor": 2
}
